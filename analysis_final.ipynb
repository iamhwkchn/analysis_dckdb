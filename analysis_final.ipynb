{
 "cells": [
  {
   "cell_type": "code",
   "execution_count": 1,
   "metadata": {},
   "outputs": [],
   "source": [
    "import pandas as pd\n",
    "import time\n",
    "import duckdb\n",
    "import seaborn as sns\n",
    "import matplotlib.pyplot as plt\n"
   ]
  },
  {
   "cell_type": "code",
   "execution_count": 2,
   "metadata": {},
   "outputs": [],
   "source": [
    "conn = duckdb.connect(\"mydb1.db\")"
   ]
  },
  {
   "cell_type": "markdown",
   "metadata": {},
   "source": [
    "<h5>Creating the users table</h5>"
   ]
  },
  {
   "cell_type": "code",
   "execution_count": 13,
   "metadata": {},
   "outputs": [],
   "source": [
    "df_user = conn.execute(\"\"\"\n",
    "  CREATE TABLE users AS SELECT * FROM read_parquet('merged/users_merged.parquet')\n",
    "\"\"\")\n"
   ]
  },
  {
   "cell_type": "code",
   "execution_count": 3,
   "metadata": {},
   "outputs": [
    {
     "data": {
      "text/html": [
       "<div>\n",
       "<style scoped>\n",
       "    .dataframe tbody tr th:only-of-type {\n",
       "        vertical-align: middle;\n",
       "    }\n",
       "\n",
       "    .dataframe tbody tr th {\n",
       "        vertical-align: top;\n",
       "    }\n",
       "\n",
       "    .dataframe thead th {\n",
       "        text-align: right;\n",
       "    }\n",
       "</style>\n",
       "<table border=\"1\" class=\"dataframe\">\n",
       "  <thead>\n",
       "    <tr style=\"text-align: right;\">\n",
       "      <th></th>\n",
       "      <th>column_name</th>\n",
       "      <th>column_type</th>\n",
       "      <th>null</th>\n",
       "      <th>key</th>\n",
       "      <th>default</th>\n",
       "      <th>extra</th>\n",
       "    </tr>\n",
       "  </thead>\n",
       "  <tbody>\n",
       "    <tr>\n",
       "      <th>0</th>\n",
       "      <td>user_id</td>\n",
       "      <td>BIGINT</td>\n",
       "      <td>YES</td>\n",
       "      <td>NaN</td>\n",
       "      <td>NaN</td>\n",
       "      <td>NaN</td>\n",
       "    </tr>\n",
       "    <tr>\n",
       "      <th>1</th>\n",
       "      <td>user_name</td>\n",
       "      <td>VARCHAR</td>\n",
       "      <td>YES</td>\n",
       "      <td>NaN</td>\n",
       "      <td>NaN</td>\n",
       "      <td>NaN</td>\n",
       "    </tr>\n",
       "    <tr>\n",
       "      <th>2</th>\n",
       "      <td>email</td>\n",
       "      <td>VARCHAR</td>\n",
       "      <td>YES</td>\n",
       "      <td>NaN</td>\n",
       "      <td>NaN</td>\n",
       "      <td>NaN</td>\n",
       "    </tr>\n",
       "    <tr>\n",
       "      <th>3</th>\n",
       "      <td>date_of_birth</td>\n",
       "      <td>VARCHAR</td>\n",
       "      <td>YES</td>\n",
       "      <td>NaN</td>\n",
       "      <td>NaN</td>\n",
       "      <td>NaN</td>\n",
       "    </tr>\n",
       "    <tr>\n",
       "      <th>4</th>\n",
       "      <td>address</td>\n",
       "      <td>VARCHAR</td>\n",
       "      <td>YES</td>\n",
       "      <td>NaN</td>\n",
       "      <td>NaN</td>\n",
       "      <td>NaN</td>\n",
       "    </tr>\n",
       "    <tr>\n",
       "      <th>5</th>\n",
       "      <td>state</td>\n",
       "      <td>VARCHAR</td>\n",
       "      <td>YES</td>\n",
       "      <td>NaN</td>\n",
       "      <td>NaN</td>\n",
       "      <td>NaN</td>\n",
       "    </tr>\n",
       "    <tr>\n",
       "      <th>6</th>\n",
       "      <td>country</td>\n",
       "      <td>VARCHAR</td>\n",
       "      <td>YES</td>\n",
       "      <td>NaN</td>\n",
       "      <td>NaN</td>\n",
       "      <td>NaN</td>\n",
       "    </tr>\n",
       "  </tbody>\n",
       "</table>\n",
       "</div>"
      ],
      "text/plain": [
       "     column_name column_type null  key default  extra\n",
       "0        user_id      BIGINT  YES  NaN     NaN    NaN\n",
       "1      user_name     VARCHAR  YES  NaN     NaN    NaN\n",
       "2          email     VARCHAR  YES  NaN     NaN    NaN\n",
       "3  date_of_birth     VARCHAR  YES  NaN     NaN    NaN\n",
       "4        address     VARCHAR  YES  NaN     NaN    NaN\n",
       "5          state     VARCHAR  YES  NaN     NaN    NaN\n",
       "6        country     VARCHAR  YES  NaN     NaN    NaN"
      ]
     },
     "execution_count": 3,
     "metadata": {},
     "output_type": "execute_result"
    }
   ],
   "source": [
    "conn.execute(\" DESCRIBE users\").df()"
   ]
  },
  {
   "cell_type": "markdown",
   "metadata": {},
   "source": [
    "<h5>Creating the Transactions table</h5>"
   ]
  },
  {
   "cell_type": "code",
   "execution_count": 9,
   "metadata": {},
   "outputs": [],
   "source": [
    "df_user = conn.execute(\"\"\"\n",
    "  CREATE TABLE transactions AS SELECT * FROM read_parquet('merged/transactions_merged_all.parquet')\n",
    "\"\"\")"
   ]
  },
  {
   "cell_type": "code",
   "execution_count": 4,
   "metadata": {},
   "outputs": [
    {
     "data": {
      "text/html": [
       "<div>\n",
       "<style scoped>\n",
       "    .dataframe tbody tr th:only-of-type {\n",
       "        vertical-align: middle;\n",
       "    }\n",
       "\n",
       "    .dataframe tbody tr th {\n",
       "        vertical-align: top;\n",
       "    }\n",
       "\n",
       "    .dataframe thead th {\n",
       "        text-align: right;\n",
       "    }\n",
       "</style>\n",
       "<table border=\"1\" class=\"dataframe\">\n",
       "  <thead>\n",
       "    <tr style=\"text-align: right;\">\n",
       "      <th></th>\n",
       "      <th>column_name</th>\n",
       "      <th>column_type</th>\n",
       "      <th>null</th>\n",
       "      <th>key</th>\n",
       "      <th>default</th>\n",
       "      <th>extra</th>\n",
       "    </tr>\n",
       "  </thead>\n",
       "  <tbody>\n",
       "    <tr>\n",
       "      <th>0</th>\n",
       "      <td>transaction_id</td>\n",
       "      <td>BIGINT</td>\n",
       "      <td>YES</td>\n",
       "      <td>NaN</td>\n",
       "      <td>NaN</td>\n",
       "      <td>NaN</td>\n",
       "    </tr>\n",
       "    <tr>\n",
       "      <th>1</th>\n",
       "      <td>user_id</td>\n",
       "      <td>BIGINT</td>\n",
       "      <td>YES</td>\n",
       "      <td>NaN</td>\n",
       "      <td>NaN</td>\n",
       "      <td>NaN</td>\n",
       "    </tr>\n",
       "    <tr>\n",
       "      <th>2</th>\n",
       "      <td>product_id</td>\n",
       "      <td>VARCHAR</td>\n",
       "      <td>YES</td>\n",
       "      <td>NaN</td>\n",
       "      <td>NaN</td>\n",
       "      <td>NaN</td>\n",
       "    </tr>\n",
       "    <tr>\n",
       "      <th>3</th>\n",
       "      <td>product_name</td>\n",
       "      <td>VARCHAR</td>\n",
       "      <td>YES</td>\n",
       "      <td>NaN</td>\n",
       "      <td>NaN</td>\n",
       "      <td>NaN</td>\n",
       "    </tr>\n",
       "    <tr>\n",
       "      <th>4</th>\n",
       "      <td>amount</td>\n",
       "      <td>DOUBLE</td>\n",
       "      <td>YES</td>\n",
       "      <td>NaN</td>\n",
       "      <td>NaN</td>\n",
       "      <td>NaN</td>\n",
       "    </tr>\n",
       "    <tr>\n",
       "      <th>5</th>\n",
       "      <td>transaction_date</td>\n",
       "      <td>VARCHAR</td>\n",
       "      <td>YES</td>\n",
       "      <td>NaN</td>\n",
       "      <td>NaN</td>\n",
       "      <td>NaN</td>\n",
       "    </tr>\n",
       "  </tbody>\n",
       "</table>\n",
       "</div>"
      ],
      "text/plain": [
       "        column_name column_type null  key default  extra\n",
       "0    transaction_id      BIGINT  YES  NaN     NaN    NaN\n",
       "1           user_id      BIGINT  YES  NaN     NaN    NaN\n",
       "2        product_id     VARCHAR  YES  NaN     NaN    NaN\n",
       "3      product_name     VARCHAR  YES  NaN     NaN    NaN\n",
       "4            amount      DOUBLE  YES  NaN     NaN    NaN\n",
       "5  transaction_date     VARCHAR  YES  NaN     NaN    NaN"
      ]
     },
     "execution_count": 4,
     "metadata": {},
     "output_type": "execute_result"
    }
   ],
   "source": [
    "conn.execute(\" DESCRIBE transactions\").df()"
   ]
  },
  {
   "cell_type": "markdown",
   "metadata": {},
   "source": [
    "<h5>Creating the Prodcts table</h5>"
   ]
  },
  {
   "cell_type": "code",
   "execution_count": 11,
   "metadata": {},
   "outputs": [],
   "source": [
    "df_user = conn.execute(\"\"\"\n",
    "  CREATE TABLE products AS SELECT * FROM read_parquet('merged/products_merged.parquet')\n",
    "\"\"\")"
   ]
  },
  {
   "cell_type": "code",
   "execution_count": 5,
   "metadata": {},
   "outputs": [
    {
     "data": {
      "text/html": [
       "<div>\n",
       "<style scoped>\n",
       "    .dataframe tbody tr th:only-of-type {\n",
       "        vertical-align: middle;\n",
       "    }\n",
       "\n",
       "    .dataframe tbody tr th {\n",
       "        vertical-align: top;\n",
       "    }\n",
       "\n",
       "    .dataframe thead th {\n",
       "        text-align: right;\n",
       "    }\n",
       "</style>\n",
       "<table border=\"1\" class=\"dataframe\">\n",
       "  <thead>\n",
       "    <tr style=\"text-align: right;\">\n",
       "      <th></th>\n",
       "      <th>column_name</th>\n",
       "      <th>column_type</th>\n",
       "      <th>null</th>\n",
       "      <th>key</th>\n",
       "      <th>default</th>\n",
       "      <th>extra</th>\n",
       "    </tr>\n",
       "  </thead>\n",
       "  <tbody>\n",
       "    <tr>\n",
       "      <th>0</th>\n",
       "      <td>product_id</td>\n",
       "      <td>VARCHAR</td>\n",
       "      <td>YES</td>\n",
       "      <td>NaN</td>\n",
       "      <td>NaN</td>\n",
       "      <td>NaN</td>\n",
       "    </tr>\n",
       "    <tr>\n",
       "      <th>1</th>\n",
       "      <td>product_name</td>\n",
       "      <td>VARCHAR</td>\n",
       "      <td>YES</td>\n",
       "      <td>NaN</td>\n",
       "      <td>NaN</td>\n",
       "      <td>NaN</td>\n",
       "    </tr>\n",
       "    <tr>\n",
       "      <th>2</th>\n",
       "      <td>category</td>\n",
       "      <td>VARCHAR</td>\n",
       "      <td>YES</td>\n",
       "      <td>NaN</td>\n",
       "      <td>NaN</td>\n",
       "      <td>NaN</td>\n",
       "    </tr>\n",
       "    <tr>\n",
       "      <th>3</th>\n",
       "      <td>price</td>\n",
       "      <td>DOUBLE</td>\n",
       "      <td>YES</td>\n",
       "      <td>NaN</td>\n",
       "      <td>NaN</td>\n",
       "      <td>NaN</td>\n",
       "    </tr>\n",
       "  </tbody>\n",
       "</table>\n",
       "</div>"
      ],
      "text/plain": [
       "    column_name column_type null  key default  extra\n",
       "0    product_id     VARCHAR  YES  NaN     NaN    NaN\n",
       "1  product_name     VARCHAR  YES  NaN     NaN    NaN\n",
       "2      category     VARCHAR  YES  NaN     NaN    NaN\n",
       "3         price      DOUBLE  YES  NaN     NaN    NaN"
      ]
     },
     "execution_count": 5,
     "metadata": {},
     "output_type": "execute_result"
    }
   ],
   "source": [
    "conn.execute(\" DESCRIBE products\").df()"
   ]
  },
  {
   "cell_type": "markdown",
   "metadata": {},
   "source": [
    "<h3> BASIC ANALYSIS ON THE TABLES </h3>"
   ]
  },
  {
   "cell_type": "markdown",
   "metadata": {},
   "source": [
    "1. To view the first 10 rows of all the given tables"
   ]
  },
  {
   "cell_type": "code",
   "execution_count": 18,
   "metadata": {},
   "outputs": [
    {
     "data": {
      "text/html": [
       "<div>\n",
       "<style scoped>\n",
       "    .dataframe tbody tr th:only-of-type {\n",
       "        vertical-align: middle;\n",
       "    }\n",
       "\n",
       "    .dataframe tbody tr th {\n",
       "        vertical-align: top;\n",
       "    }\n",
       "\n",
       "    .dataframe thead th {\n",
       "        text-align: right;\n",
       "    }\n",
       "</style>\n",
       "<table border=\"1\" class=\"dataframe\">\n",
       "  <thead>\n",
       "    <tr style=\"text-align: right;\">\n",
       "      <th></th>\n",
       "      <th>user_id</th>\n",
       "      <th>user_name</th>\n",
       "      <th>email</th>\n",
       "      <th>date_of_birth</th>\n",
       "      <th>address</th>\n",
       "      <th>state</th>\n",
       "      <th>country</th>\n",
       "    </tr>\n",
       "  </thead>\n",
       "  <tbody>\n",
       "    <tr>\n",
       "      <th>0</th>\n",
       "      <td>1001</td>\n",
       "      <td>Michael Hamilton</td>\n",
       "      <td>jacquelineperry@example.net</td>\n",
       "      <td>1944-10-27</td>\n",
       "      <td>9550 Smith Ridges\\nCynthiastad, MH 80405</td>\n",
       "      <td>Kansas</td>\n",
       "      <td>Mexico</td>\n",
       "    </tr>\n",
       "    <tr>\n",
       "      <th>1</th>\n",
       "      <td>1002</td>\n",
       "      <td>William Stokes</td>\n",
       "      <td>cory68@example.org</td>\n",
       "      <td>1970-02-15</td>\n",
       "      <td>2849 Amanda Bridge Suite 535\\nNorth Scott, ME ...</td>\n",
       "      <td>Utah</td>\n",
       "      <td>United Kingdom</td>\n",
       "    </tr>\n",
       "    <tr>\n",
       "      <th>2</th>\n",
       "      <td>1003</td>\n",
       "      <td>Tammy Archer</td>\n",
       "      <td>reyesjohn@example.net</td>\n",
       "      <td>1955-03-01</td>\n",
       "      <td>43205 Hopkins Brook\\nCaseyborough, UT 13233</td>\n",
       "      <td>Tennessee</td>\n",
       "      <td>Lithuania</td>\n",
       "    </tr>\n",
       "    <tr>\n",
       "      <th>3</th>\n",
       "      <td>1004</td>\n",
       "      <td>Chelsea Herrera</td>\n",
       "      <td>vsingh@example.org</td>\n",
       "      <td>1959-01-01</td>\n",
       "      <td>800 Emily Harbor Apt. 727\\nJonesmouth, FL 51151</td>\n",
       "      <td>Indiana</td>\n",
       "      <td>Romania</td>\n",
       "    </tr>\n",
       "    <tr>\n",
       "      <th>4</th>\n",
       "      <td>1005</td>\n",
       "      <td>Peter Thomas</td>\n",
       "      <td>ebentley@example.org</td>\n",
       "      <td>1999-10-12</td>\n",
       "      <td>Unit 5504 Box 8656\\nDPO AA 32630</td>\n",
       "      <td>Alaska</td>\n",
       "      <td>Togo</td>\n",
       "    </tr>\n",
       "    <tr>\n",
       "      <th>5</th>\n",
       "      <td>1006</td>\n",
       "      <td>Pamela Nelson</td>\n",
       "      <td>fostermichael@example.net</td>\n",
       "      <td>1990-01-23</td>\n",
       "      <td>0959 Samuel Junction\\nPort Natalie, MH 99949</td>\n",
       "      <td>Louisiana</td>\n",
       "      <td>Cuba</td>\n",
       "    </tr>\n",
       "    <tr>\n",
       "      <th>6</th>\n",
       "      <td>1007</td>\n",
       "      <td>Eric Nguyen</td>\n",
       "      <td>jhuber@example.com</td>\n",
       "      <td>1968-02-25</td>\n",
       "      <td>5937 Schneider Heights\\nPort Stephenville, IA ...</td>\n",
       "      <td>Arizona</td>\n",
       "      <td>Russian Federation</td>\n",
       "    </tr>\n",
       "    <tr>\n",
       "      <th>7</th>\n",
       "      <td>1008</td>\n",
       "      <td>Kimberly Burke</td>\n",
       "      <td>reyesmelissa@example.net</td>\n",
       "      <td>1995-12-15</td>\n",
       "      <td>646 Daniels Trail Suite 903\\nThomashaven, FL 6...</td>\n",
       "      <td>Nebraska</td>\n",
       "      <td>Swaziland</td>\n",
       "    </tr>\n",
       "    <tr>\n",
       "      <th>8</th>\n",
       "      <td>1009</td>\n",
       "      <td>Steven Blake</td>\n",
       "      <td>ronald02@example.org</td>\n",
       "      <td>1990-02-11</td>\n",
       "      <td>8619 Michael Divide\\nFoxstad, CO 16596</td>\n",
       "      <td>Oklahoma</td>\n",
       "      <td>Qatar</td>\n",
       "    </tr>\n",
       "    <tr>\n",
       "      <th>9</th>\n",
       "      <td>1010</td>\n",
       "      <td>Mackenzie Fitzgerald</td>\n",
       "      <td>chadmiller@example.net</td>\n",
       "      <td>1964-03-28</td>\n",
       "      <td>412 Carter Union Apt. 761\\nStacymouth, ND 44214</td>\n",
       "      <td>Montana</td>\n",
       "      <td>Belarus</td>\n",
       "    </tr>\n",
       "  </tbody>\n",
       "</table>\n",
       "</div>"
      ],
      "text/plain": [
       "   user_id             user_name                        email date_of_birth  \\\n",
       "0     1001      Michael Hamilton  jacquelineperry@example.net    1944-10-27   \n",
       "1     1002        William Stokes           cory68@example.org    1970-02-15   \n",
       "2     1003          Tammy Archer        reyesjohn@example.net    1955-03-01   \n",
       "3     1004       Chelsea Herrera           vsingh@example.org    1959-01-01   \n",
       "4     1005          Peter Thomas         ebentley@example.org    1999-10-12   \n",
       "5     1006         Pamela Nelson    fostermichael@example.net    1990-01-23   \n",
       "6     1007           Eric Nguyen           jhuber@example.com    1968-02-25   \n",
       "7     1008        Kimberly Burke     reyesmelissa@example.net    1995-12-15   \n",
       "8     1009          Steven Blake         ronald02@example.org    1990-02-11   \n",
       "9     1010  Mackenzie Fitzgerald       chadmiller@example.net    1964-03-28   \n",
       "\n",
       "                                             address      state  \\\n",
       "0           9550 Smith Ridges\\nCynthiastad, MH 80405     Kansas   \n",
       "1  2849 Amanda Bridge Suite 535\\nNorth Scott, ME ...       Utah   \n",
       "2        43205 Hopkins Brook\\nCaseyborough, UT 13233  Tennessee   \n",
       "3    800 Emily Harbor Apt. 727\\nJonesmouth, FL 51151    Indiana   \n",
       "4                   Unit 5504 Box 8656\\nDPO AA 32630     Alaska   \n",
       "5       0959 Samuel Junction\\nPort Natalie, MH 99949  Louisiana   \n",
       "6  5937 Schneider Heights\\nPort Stephenville, IA ...    Arizona   \n",
       "7  646 Daniels Trail Suite 903\\nThomashaven, FL 6...   Nebraska   \n",
       "8             8619 Michael Divide\\nFoxstad, CO 16596   Oklahoma   \n",
       "9    412 Carter Union Apt. 761\\nStacymouth, ND 44214    Montana   \n",
       "\n",
       "              country  \n",
       "0              Mexico  \n",
       "1      United Kingdom  \n",
       "2           Lithuania  \n",
       "3             Romania  \n",
       "4                Togo  \n",
       "5                Cuba  \n",
       "6  Russian Federation  \n",
       "7           Swaziland  \n",
       "8               Qatar  \n",
       "9             Belarus  "
      ]
     },
     "execution_count": 18,
     "metadata": {},
     "output_type": "execute_result"
    }
   ],
   "source": [
    "conn.execute(\" select * from users LIMIT 10\").df()"
   ]
  },
  {
   "cell_type": "code",
   "execution_count": 19,
   "metadata": {},
   "outputs": [
    {
     "data": {
      "text/html": [
       "<div>\n",
       "<style scoped>\n",
       "    .dataframe tbody tr th:only-of-type {\n",
       "        vertical-align: middle;\n",
       "    }\n",
       "\n",
       "    .dataframe tbody tr th {\n",
       "        vertical-align: top;\n",
       "    }\n",
       "\n",
       "    .dataframe thead th {\n",
       "        text-align: right;\n",
       "    }\n",
       "</style>\n",
       "<table border=\"1\" class=\"dataframe\">\n",
       "  <thead>\n",
       "    <tr style=\"text-align: right;\">\n",
       "      <th></th>\n",
       "      <th>product_id</th>\n",
       "      <th>product_name</th>\n",
       "      <th>category</th>\n",
       "      <th>price</th>\n",
       "    </tr>\n",
       "  </thead>\n",
       "  <tbody>\n",
       "    <tr>\n",
       "      <th>0</th>\n",
       "      <td>P689</td>\n",
       "      <td>blood</td>\n",
       "      <td>Clothing</td>\n",
       "      <td>175.56</td>\n",
       "    </tr>\n",
       "    <tr>\n",
       "      <th>1</th>\n",
       "      <td>P802</td>\n",
       "      <td>cultural</td>\n",
       "      <td>Accessories</td>\n",
       "      <td>85.98</td>\n",
       "    </tr>\n",
       "    <tr>\n",
       "      <th>2</th>\n",
       "      <td>P821</td>\n",
       "      <td>turn</td>\n",
       "      <td>Clothing</td>\n",
       "      <td>115.44</td>\n",
       "    </tr>\n",
       "    <tr>\n",
       "      <th>3</th>\n",
       "      <td>P977</td>\n",
       "      <td>notice</td>\n",
       "      <td>Tools</td>\n",
       "      <td>27.76</td>\n",
       "    </tr>\n",
       "    <tr>\n",
       "      <th>4</th>\n",
       "      <td>P403</td>\n",
       "      <td>including</td>\n",
       "      <td>Clothing</td>\n",
       "      <td>55.68</td>\n",
       "    </tr>\n",
       "    <tr>\n",
       "      <th>5</th>\n",
       "      <td>P322</td>\n",
       "      <td>will</td>\n",
       "      <td>Tools</td>\n",
       "      <td>29.27</td>\n",
       "    </tr>\n",
       "    <tr>\n",
       "      <th>6</th>\n",
       "      <td>P221</td>\n",
       "      <td>push</td>\n",
       "      <td>Tools</td>\n",
       "      <td>76.42</td>\n",
       "    </tr>\n",
       "    <tr>\n",
       "      <th>7</th>\n",
       "      <td>P728</td>\n",
       "      <td>anyone</td>\n",
       "      <td>Electronics</td>\n",
       "      <td>35.98</td>\n",
       "    </tr>\n",
       "    <tr>\n",
       "      <th>8</th>\n",
       "      <td>P469</td>\n",
       "      <td>everything</td>\n",
       "      <td>Tools</td>\n",
       "      <td>153.82</td>\n",
       "    </tr>\n",
       "    <tr>\n",
       "      <th>9</th>\n",
       "      <td>P138</td>\n",
       "      <td>tree</td>\n",
       "      <td>Home</td>\n",
       "      <td>147.97</td>\n",
       "    </tr>\n",
       "  </tbody>\n",
       "</table>\n",
       "</div>"
      ],
      "text/plain": [
       "  product_id product_name     category   price\n",
       "0       P689        blood     Clothing  175.56\n",
       "1       P802     cultural  Accessories   85.98\n",
       "2       P821         turn     Clothing  115.44\n",
       "3       P977       notice        Tools   27.76\n",
       "4       P403    including     Clothing   55.68\n",
       "5       P322         will        Tools   29.27\n",
       "6       P221         push        Tools   76.42\n",
       "7       P728       anyone  Electronics   35.98\n",
       "8       P469   everything        Tools  153.82\n",
       "9       P138         tree         Home  147.97"
      ]
     },
     "execution_count": 19,
     "metadata": {},
     "output_type": "execute_result"
    }
   ],
   "source": [
    "conn.execute(\" select * from products LIMIT 10\").df()"
   ]
  },
  {
   "cell_type": "code",
   "execution_count": 20,
   "metadata": {},
   "outputs": [
    {
     "data": {
      "text/html": [
       "<div>\n",
       "<style scoped>\n",
       "    .dataframe tbody tr th:only-of-type {\n",
       "        vertical-align: middle;\n",
       "    }\n",
       "\n",
       "    .dataframe tbody tr th {\n",
       "        vertical-align: top;\n",
       "    }\n",
       "\n",
       "    .dataframe thead th {\n",
       "        text-align: right;\n",
       "    }\n",
       "</style>\n",
       "<table border=\"1\" class=\"dataframe\">\n",
       "  <thead>\n",
       "    <tr style=\"text-align: right;\">\n",
       "      <th></th>\n",
       "      <th>transaction_id</th>\n",
       "      <th>user_id</th>\n",
       "      <th>product_id</th>\n",
       "      <th>product_name</th>\n",
       "      <th>amount</th>\n",
       "      <th>transaction_date</th>\n",
       "    </tr>\n",
       "  </thead>\n",
       "  <tbody>\n",
       "    <tr>\n",
       "      <th>0</th>\n",
       "      <td>1</td>\n",
       "      <td>1100</td>\n",
       "      <td>P148</td>\n",
       "      <td>job</td>\n",
       "      <td>50.03</td>\n",
       "      <td>2023-04-27 03:57:05</td>\n",
       "    </tr>\n",
       "    <tr>\n",
       "      <th>1</th>\n",
       "      <td>2</td>\n",
       "      <td>1195</td>\n",
       "      <td>P937</td>\n",
       "      <td>never</td>\n",
       "      <td>48.00</td>\n",
       "      <td>2023-05-14 22:55:01</td>\n",
       "    </tr>\n",
       "    <tr>\n",
       "      <th>2</th>\n",
       "      <td>3</td>\n",
       "      <td>1934</td>\n",
       "      <td>P244</td>\n",
       "      <td>threat</td>\n",
       "      <td>39.08</td>\n",
       "      <td>2023-06-04 21:53:53</td>\n",
       "    </tr>\n",
       "    <tr>\n",
       "      <th>3</th>\n",
       "      <td>4</td>\n",
       "      <td>1081</td>\n",
       "      <td>P113</td>\n",
       "      <td>art</td>\n",
       "      <td>96.16</td>\n",
       "      <td>2023-06-14 10:53:56</td>\n",
       "    </tr>\n",
       "    <tr>\n",
       "      <th>4</th>\n",
       "      <td>5</td>\n",
       "      <td>1399</td>\n",
       "      <td>P981</td>\n",
       "      <td>foot</td>\n",
       "      <td>35.09</td>\n",
       "      <td>2023-05-13 05:44:19</td>\n",
       "    </tr>\n",
       "    <tr>\n",
       "      <th>5</th>\n",
       "      <td>6</td>\n",
       "      <td>1452</td>\n",
       "      <td>P803</td>\n",
       "      <td>center</td>\n",
       "      <td>77.23</td>\n",
       "      <td>2023-06-27 17:31:51</td>\n",
       "    </tr>\n",
       "    <tr>\n",
       "      <th>6</th>\n",
       "      <td>7</td>\n",
       "      <td>1559</td>\n",
       "      <td>P938</td>\n",
       "      <td>doctor</td>\n",
       "      <td>18.84</td>\n",
       "      <td>2023-04-25 23:59:38</td>\n",
       "    </tr>\n",
       "    <tr>\n",
       "      <th>7</th>\n",
       "      <td>8</td>\n",
       "      <td>1701</td>\n",
       "      <td>P384</td>\n",
       "      <td>also</td>\n",
       "      <td>96.38</td>\n",
       "      <td>2023-02-19 08:58:17</td>\n",
       "    </tr>\n",
       "    <tr>\n",
       "      <th>8</th>\n",
       "      <td>9</td>\n",
       "      <td>1024</td>\n",
       "      <td>P918</td>\n",
       "      <td>control</td>\n",
       "      <td>44.15</td>\n",
       "      <td>2023-07-20 16:28:37</td>\n",
       "    </tr>\n",
       "    <tr>\n",
       "      <th>9</th>\n",
       "      <td>10</td>\n",
       "      <td>1822</td>\n",
       "      <td>P112</td>\n",
       "      <td>realize</td>\n",
       "      <td>36.15</td>\n",
       "      <td>2023-06-03 11:56:52</td>\n",
       "    </tr>\n",
       "  </tbody>\n",
       "</table>\n",
       "</div>"
      ],
      "text/plain": [
       "   transaction_id  user_id product_id product_name  amount  \\\n",
       "0               1     1100       P148          job   50.03   \n",
       "1               2     1195       P937        never   48.00   \n",
       "2               3     1934       P244       threat   39.08   \n",
       "3               4     1081       P113          art   96.16   \n",
       "4               5     1399       P981         foot   35.09   \n",
       "5               6     1452       P803       center   77.23   \n",
       "6               7     1559       P938       doctor   18.84   \n",
       "7               8     1701       P384         also   96.38   \n",
       "8               9     1024       P918      control   44.15   \n",
       "9              10     1822       P112      realize   36.15   \n",
       "\n",
       "      transaction_date  \n",
       "0  2023-04-27 03:57:05  \n",
       "1  2023-05-14 22:55:01  \n",
       "2  2023-06-04 21:53:53  \n",
       "3  2023-06-14 10:53:56  \n",
       "4  2023-05-13 05:44:19  \n",
       "5  2023-06-27 17:31:51  \n",
       "6  2023-04-25 23:59:38  \n",
       "7  2023-02-19 08:58:17  \n",
       "8  2023-07-20 16:28:37  \n",
       "9  2023-06-03 11:56:52  "
      ]
     },
     "execution_count": 20,
     "metadata": {},
     "output_type": "execute_result"
    }
   ],
   "source": [
    "conn.execute(\" select * from transactions LIMIT 10\").df()"
   ]
  },
  {
   "cell_type": "markdown",
   "metadata": {},
   "source": [
    "2. Count of total number of rows in each Table"
   ]
  },
  {
   "cell_type": "code",
   "execution_count": 21,
   "metadata": {},
   "outputs": [
    {
     "data": {
      "text/html": [
       "<div>\n",
       "<style scoped>\n",
       "    .dataframe tbody tr th:only-of-type {\n",
       "        vertical-align: middle;\n",
       "    }\n",
       "\n",
       "    .dataframe tbody tr th {\n",
       "        vertical-align: top;\n",
       "    }\n",
       "\n",
       "    .dataframe thead th {\n",
       "        text-align: right;\n",
       "    }\n",
       "</style>\n",
       "<table border=\"1\" class=\"dataframe\">\n",
       "  <thead>\n",
       "    <tr style=\"text-align: right;\">\n",
       "      <th></th>\n",
       "      <th>user_count</th>\n",
       "    </tr>\n",
       "  </thead>\n",
       "  <tbody>\n",
       "    <tr>\n",
       "      <th>0</th>\n",
       "      <td>10100000</td>\n",
       "    </tr>\n",
       "  </tbody>\n",
       "</table>\n",
       "</div>"
      ],
      "text/plain": [
       "   user_count\n",
       "0    10100000"
      ]
     },
     "execution_count": 21,
     "metadata": {},
     "output_type": "execute_result"
    }
   ],
   "source": [
    "conn.execute(\"  SELECT count(*) AS user_count FROM users  \").df()\n",
    "\n"
   ]
  },
  {
   "cell_type": "code",
   "execution_count": 22,
   "metadata": {},
   "outputs": [
    {
     "data": {
      "text/html": [
       "<div>\n",
       "<style scoped>\n",
       "    .dataframe tbody tr th:only-of-type {\n",
       "        vertical-align: middle;\n",
       "    }\n",
       "\n",
       "    .dataframe tbody tr th {\n",
       "        vertical-align: top;\n",
       "    }\n",
       "\n",
       "    .dataframe thead th {\n",
       "        text-align: right;\n",
       "    }\n",
       "</style>\n",
       "<table border=\"1\" class=\"dataframe\">\n",
       "  <thead>\n",
       "    <tr style=\"text-align: right;\">\n",
       "      <th></th>\n",
       "      <th>product_count</th>\n",
       "    </tr>\n",
       "  </thead>\n",
       "  <tbody>\n",
       "    <tr>\n",
       "      <th>0</th>\n",
       "      <td>300000</td>\n",
       "    </tr>\n",
       "  </tbody>\n",
       "</table>\n",
       "</div>"
      ],
      "text/plain": [
       "   product_count\n",
       "0         300000"
      ]
     },
     "execution_count": 22,
     "metadata": {},
     "output_type": "execute_result"
    }
   ],
   "source": [
    "conn.execute(\"  SELECT count(*) AS product_count FROM products  \").df()"
   ]
  },
  {
   "cell_type": "code",
   "execution_count": 23,
   "metadata": {},
   "outputs": [
    {
     "data": {
      "text/html": [
       "<div>\n",
       "<style scoped>\n",
       "    .dataframe tbody tr th:only-of-type {\n",
       "        vertical-align: middle;\n",
       "    }\n",
       "\n",
       "    .dataframe tbody tr th {\n",
       "        vertical-align: top;\n",
       "    }\n",
       "\n",
       "    .dataframe thead th {\n",
       "        text-align: right;\n",
       "    }\n",
       "</style>\n",
       "<table border=\"1\" class=\"dataframe\">\n",
       "  <thead>\n",
       "    <tr style=\"text-align: right;\">\n",
       "      <th></th>\n",
       "      <th>transaction_count</th>\n",
       "    </tr>\n",
       "  </thead>\n",
       "  <tbody>\n",
       "    <tr>\n",
       "      <th>0</th>\n",
       "      <td>100000000</td>\n",
       "    </tr>\n",
       "  </tbody>\n",
       "</table>\n",
       "</div>"
      ],
      "text/plain": [
       "   transaction_count\n",
       "0          100000000"
      ]
     },
     "execution_count": 23,
     "metadata": {},
     "output_type": "execute_result"
    }
   ],
   "source": [
    "conn.execute(\"  SELECT count(*) AS transaction_count FROM transactions  \").df()"
   ]
  },
  {
   "cell_type": "markdown",
   "metadata": {},
   "source": [
    "3. Statestical data on the transaction Tables"
   ]
  },
  {
   "cell_type": "code",
   "execution_count": 24,
   "metadata": {},
   "outputs": [
    {
     "data": {
      "text/html": [
       "<div>\n",
       "<style scoped>\n",
       "    .dataframe tbody tr th:only-of-type {\n",
       "        vertical-align: middle;\n",
       "    }\n",
       "\n",
       "    .dataframe tbody tr th {\n",
       "        vertical-align: top;\n",
       "    }\n",
       "\n",
       "    .dataframe thead th {\n",
       "        text-align: right;\n",
       "    }\n",
       "</style>\n",
       "<table border=\"1\" class=\"dataframe\">\n",
       "  <thead>\n",
       "    <tr style=\"text-align: right;\">\n",
       "      <th></th>\n",
       "      <th>min(amount)</th>\n",
       "      <th>max(amount)</th>\n",
       "      <th>avg(amount)</th>\n",
       "    </tr>\n",
       "  </thead>\n",
       "  <tbody>\n",
       "    <tr>\n",
       "      <th>0</th>\n",
       "      <td>10.0</td>\n",
       "      <td>100.0</td>\n",
       "      <td>55.000622</td>\n",
       "    </tr>\n",
       "  </tbody>\n",
       "</table>\n",
       "</div>"
      ],
      "text/plain": [
       "   min(amount)  max(amount)  avg(amount)\n",
       "0         10.0        100.0    55.000622"
      ]
     },
     "execution_count": 24,
     "metadata": {},
     "output_type": "execute_result"
    }
   ],
   "source": [
    "conn.execute(\"\"\"\n",
    "             \n",
    "             SELECT MIN(amount) , MAX(amount) , AVG(amount) FROM transactions\n",
    "             \n",
    "             \n",
    "             \"\"\").df()"
   ]
  },
  {
   "cell_type": "markdown",
   "metadata": {},
   "source": [
    "There is no null values in any of the tables as the data was synthetically created so no need to handle any null values"
   ]
  },
  {
   "cell_type": "markdown",
   "metadata": {},
   "source": [
    "4. Data Cleaning Procedure:\n",
    "    Check for duplicate values"
   ]
  },
  {
   "cell_type": "code",
   "execution_count": 40,
   "metadata": {},
   "outputs": [
    {
     "data": {
      "text/html": [
       "<div>\n",
       "<style scoped>\n",
       "    .dataframe tbody tr th:only-of-type {\n",
       "        vertical-align: middle;\n",
       "    }\n",
       "\n",
       "    .dataframe tbody tr th {\n",
       "        vertical-align: top;\n",
       "    }\n",
       "\n",
       "    .dataframe thead th {\n",
       "        text-align: right;\n",
       "    }\n",
       "</style>\n",
       "<table border=\"1\" class=\"dataframe\">\n",
       "  <thead>\n",
       "    <tr style=\"text-align: right;\">\n",
       "      <th></th>\n",
       "      <th>transaction_id</th>\n",
       "    </tr>\n",
       "  </thead>\n",
       "  <tbody>\n",
       "  </tbody>\n",
       "</table>\n",
       "</div>"
      ],
      "text/plain": [
       "Empty DataFrame\n",
       "Columns: [transaction_id]\n",
       "Index: []"
      ]
     },
     "execution_count": 40,
     "metadata": {},
     "output_type": "execute_result"
    }
   ],
   "source": [
    "\n",
    "duplicate_query = \"SELECT transaction_id FROM transactions GROUP BY transaction_id HAVING COUNT(*) > 1\"\n",
    "duplicate_result = conn.execute(duplicate_query)\n",
    "\n",
    "# Fetch the results as a DataFrame\n",
    "duplicate_result.df()\n"
   ]
  },
  {
   "cell_type": "code",
   "execution_count": 30,
   "metadata": {},
   "outputs": [
    {
     "data": {
      "text/html": [
       "<div>\n",
       "<style scoped>\n",
       "    .dataframe tbody tr th:only-of-type {\n",
       "        vertical-align: middle;\n",
       "    }\n",
       "\n",
       "    .dataframe tbody tr th {\n",
       "        vertical-align: top;\n",
       "    }\n",
       "\n",
       "    .dataframe thead th {\n",
       "        text-align: right;\n",
       "    }\n",
       "</style>\n",
       "<table border=\"1\" class=\"dataframe\">\n",
       "  <thead>\n",
       "    <tr style=\"text-align: right;\">\n",
       "      <th></th>\n",
       "      <th>user_id</th>\n",
       "      <th>user_name</th>\n",
       "      <th>email</th>\n",
       "      <th>date_of_birth</th>\n",
       "      <th>address</th>\n",
       "      <th>state</th>\n",
       "      <th>country</th>\n",
       "      <th>count</th>\n",
       "    </tr>\n",
       "  </thead>\n",
       "  <tbody>\n",
       "  </tbody>\n",
       "</table>\n",
       "</div>"
      ],
      "text/plain": [
       "Empty DataFrame\n",
       "Columns: [user_id, user_name, email, date_of_birth, address, state, country, count]\n",
       "Index: []"
      ]
     },
     "execution_count": 30,
     "metadata": {},
     "output_type": "execute_result"
    }
   ],
   "source": [
    "conn.execute(\"SELECT user_id, user_name, email, date_of_birth, address, state, country, COUNT(*) AS count FROM users GROUP BY user_id, user_name, email, date_of_birth, address, state, country HAVING COUNT(*) > 1\").df()"
   ]
  },
  {
   "cell_type": "code",
   "execution_count": 31,
   "metadata": {},
   "outputs": [
    {
     "data": {
      "text/html": [
       "<div>\n",
       "<style scoped>\n",
       "    .dataframe tbody tr th:only-of-type {\n",
       "        vertical-align: middle;\n",
       "    }\n",
       "\n",
       "    .dataframe tbody tr th {\n",
       "        vertical-align: top;\n",
       "    }\n",
       "\n",
       "    .dataframe thead th {\n",
       "        text-align: right;\n",
       "    }\n",
       "</style>\n",
       "<table border=\"1\" class=\"dataframe\">\n",
       "  <thead>\n",
       "    <tr style=\"text-align: right;\">\n",
       "      <th></th>\n",
       "      <th>product_id</th>\n",
       "      <th>product_name</th>\n",
       "      <th>category</th>\n",
       "      <th>price</th>\n",
       "      <th>count</th>\n",
       "    </tr>\n",
       "  </thead>\n",
       "  <tbody>\n",
       "    <tr>\n",
       "      <th>0</th>\n",
       "      <td>P381</td>\n",
       "      <td>guess</td>\n",
       "      <td>Tools</td>\n",
       "      <td>141.11</td>\n",
       "      <td>2</td>\n",
       "    </tr>\n",
       "    <tr>\n",
       "      <th>1</th>\n",
       "      <td>P121</td>\n",
       "      <td>ability</td>\n",
       "      <td>Tools</td>\n",
       "      <td>60.61</td>\n",
       "      <td>2</td>\n",
       "    </tr>\n",
       "    <tr>\n",
       "      <th>2</th>\n",
       "      <td>P350</td>\n",
       "      <td>agent</td>\n",
       "      <td>Electronics</td>\n",
       "      <td>178.71</td>\n",
       "      <td>2</td>\n",
       "    </tr>\n",
       "  </tbody>\n",
       "</table>\n",
       "</div>"
      ],
      "text/plain": [
       "  product_id product_name     category   price  count\n",
       "0       P381        guess        Tools  141.11      2\n",
       "1       P121      ability        Tools   60.61      2\n",
       "2       P350        agent  Electronics  178.71      2"
      ]
     },
     "execution_count": 31,
     "metadata": {},
     "output_type": "execute_result"
    }
   ],
   "source": [
    "conn.execute(\"SELECT product_id, product_name, category, price, COUNT(*) AS count FROM products GROUP BY product_id, product_name, category, price HAVING COUNT(*) > 1\").df()"
   ]
  },
  {
   "cell_type": "markdown",
   "metadata": {},
   "source": [
    "We see duplicate values in the product table which nees to be removed\n"
   ]
  },
  {
   "cell_type": "markdown",
   "metadata": {},
   "source": [
    "Now removing the duplicates from the products table"
   ]
  },
  {
   "cell_type": "code",
   "execution_count": 41,
   "metadata": {},
   "outputs": [
    {
     "data": {
      "text/plain": [
       "<duckdb.DuckDBPyConnection at 0x2de392deab0>"
      ]
     },
     "execution_count": 41,
     "metadata": {},
     "output_type": "execute_result"
    }
   ],
   "source": [
    "conn.execute(\"\"\"\n",
    "    delete from products where \"product_id\" == 'P381' OR \"product_id\" == 'P121' OR \"product_id\" == 'P350'\n",
    "\n",
    "\n",
    "\n",
    "\"\"\")"
   ]
  },
  {
   "cell_type": "code",
   "execution_count": 42,
   "metadata": {},
   "outputs": [
    {
     "data": {
      "text/html": [
       "<div>\n",
       "<style scoped>\n",
       "    .dataframe tbody tr th:only-of-type {\n",
       "        vertical-align: middle;\n",
       "    }\n",
       "\n",
       "    .dataframe tbody tr th {\n",
       "        vertical-align: top;\n",
       "    }\n",
       "\n",
       "    .dataframe thead th {\n",
       "        text-align: right;\n",
       "    }\n",
       "</style>\n",
       "<table border=\"1\" class=\"dataframe\">\n",
       "  <thead>\n",
       "    <tr style=\"text-align: right;\">\n",
       "      <th></th>\n",
       "      <th>product_id</th>\n",
       "      <th>product_name</th>\n",
       "      <th>category</th>\n",
       "      <th>price</th>\n",
       "      <th>count</th>\n",
       "    </tr>\n",
       "  </thead>\n",
       "  <tbody>\n",
       "  </tbody>\n",
       "</table>\n",
       "</div>"
      ],
      "text/plain": [
       "Empty DataFrame\n",
       "Columns: [product_id, product_name, category, price, count]\n",
       "Index: []"
      ]
     },
     "execution_count": 42,
     "metadata": {},
     "output_type": "execute_result"
    }
   ],
   "source": [
    "conn.execute(\"SELECT product_id, product_name, category, price, COUNT(*) AS count FROM products GROUP BY product_id, product_name, category, price HAVING COUNT(*) > 1\").df()"
   ]
  },
  {
   "cell_type": "markdown",
   "metadata": {},
   "source": [
    "<h3>Performing complex aggregated qeries on the tables </h3>"
   ]
  },
  {
   "cell_type": "markdown",
   "metadata": {},
   "source": [
    "1. Calculating total revenue by category"
   ]
  },
  {
   "cell_type": "code",
   "execution_count": 6,
   "metadata": {},
   "outputs": [
    {
     "name": "stdout",
     "output_type": "stream",
     "text": [
      "Execution Time: 397.44533705711365 seconds\n",
      "      category  total_revenue\n",
      "0  Accessories   3.647723e+11\n",
      "1         Home   3.676285e+11\n",
      "2     Clothing   3.642730e+11\n",
      "3  Electronics   3.647923e+11\n",
      "4        Tools   3.655675e+11\n"
     ]
    }
   ],
   "source": [
    "cur_time = time.time()\n",
    "result_query = conn.execute(\"\"\"\n",
    "    SELECT p.category, SUM(t.amount) AS total_revenue\n",
    "    FROM transactions t\n",
    "    JOIN products p ON t.product_id = p.product_id\n",
    "    GROUP BY p.category\n",
    "\"\"\")\n",
    "\n",
    "result_df = result_query.df()\n",
    "\n",
    "print(f\"Execution Time: {(time.time() - cur_time)} seconds\")\n",
    "\n",
    "print(result_df)\n",
    "\n",
    "\n",
    "\n",
    "\n",
    "\n",
    "\n"
   ]
  },
  {
   "cell_type": "code",
   "execution_count": 41,
   "metadata": {},
   "outputs": [
    {
     "data": {
      "image/png": "[encoded data removed]",
      "text/plain": [
       "<Figure size 800x400 with 1 Axes>"
      ]
     },
     "metadata": {},
     "output_type": "display_data"
    }
   ],
   "source": [
    "#visualization: bar chart\n",
    "plt.figure(figsize=(8, 4))\n",
    "sns.barplot(x=\"total_revenue\", y=\"category\", data=result_df)\n",
    "plt.xscale('log')\n",
    "plt.xlabel(\"Total Revenue (Log Scale)\")\n",
    "plt.ylabel(\"Product Category\")\n",
    "plt.title(\"Total Revenue by Product Category\")\n",
    "plt.show()"
   ]
  },
  {
   "cell_type": "markdown",
   "metadata": {},
   "source": [
    "2. Finding Users with the highest total spending by country"
   ]
  },
  {
   "cell_type": "code",
   "execution_count": 48,
   "metadata": {},
   "outputs": [
    {
     "name": "stdout",
     "output_type": "stream",
     "text": [
      "execution Time: 3.1382761001586914\n",
      "                country  user_id             user_name  total_spending\n",
      "0      Papua New Guinea     1020  Alexander Harrington      5561300.86\n",
      "1        American Samoa     1141      Nicholas Stevens      5555871.22\n",
      "2              Paraguay     1940            Ryan Bowen      5552657.82\n",
      "3              Djibouti     1097           Joanna Cobb      5552476.19\n",
      "4               Jamaica     1158       Jessica Mendoza      5549751.61\n",
      "..                  ...      ...                   ...             ...\n",
      "995        South Africa     1248         Leonard Simon      5449612.79\n",
      "996  Dominican Republic     1084               Mary Wu      5447087.44\n",
      "997               Macao     1543        Crystal Miller      5446400.19\n",
      "998              Guinea     1607     Sherri Washington      5445669.39\n",
      "999           Guatemala     1687         James Johnson      5438982.83\n",
      "\n",
      "[1000 rows x 4 columns]\n"
     ]
    }
   ],
   "source": [
    "cur_time = time.time()\n",
    "dfval = conn.execute(\"\"\"\n",
    "    SELECT u.country, u.user_id, u.user_name, SUM(t.amount) AS total_spending\n",
    "    FROM transactions t\n",
    "    JOIN users u ON t.user_id = u.user_id\n",
    "    GROUP BY u.country, u.user_id, u.user_name\n",
    "    ORDER BY total_spending DESC\n",
    "\"\"\")\n",
    "print(f\"execution Time: {(time.time() - cur_time)}\")\n",
    "print(dfval.df())"
   ]
  },
  {
   "cell_type": "markdown",
   "metadata": {},
   "source": [
    "3. Calculating the average Transaction amount per day between mar 1 23 00:00:00 till jun 30 23:59:59"
   ]
  },
  {
   "cell_type": "code",
   "execution_count": 30,
   "metadata": {},
   "outputs": [
    {
     "name": "stdout",
     "output_type": "stream",
     "text": [
      "Execution Time: 20.50181746482849 seconds\n",
      "              transaction_day  avg_transaction_amount\n",
      "0         2023-05-01 15:30:32               53.293846\n",
      "1         2023-05-26 06:18:18               52.541667\n",
      "2         2023-06-28 00:49:04               60.828750\n",
      "3         2023-04-20 16:20:51               57.165000\n",
      "4         2023-04-07 13:32:33               44.558571\n",
      "...                       ...                     ...\n",
      "10496037  2023-03-30 02:01:51               31.110000\n",
      "10496038  2023-03-12 15:36:00               41.470000\n",
      "10496039  2023-04-15 15:01:44               25.590000\n",
      "10496040  2023-03-16 09:07:13               63.220000\n",
      "10496041  2023-06-05 22:11:09               32.490000\n",
      "\n",
      "[10496042 rows x 2 columns]\n"
     ]
    }
   ],
   "source": [
    "from datetime import datetime\n",
    "\n",
    "cur_time = time.time()\n",
    "start_date = datetime(2023, 3, 1, 0, 0, 0)  # March 1, 2023, 00:00:00\n",
    "end_date = datetime(2023, 6, 30, 23, 59, 59)  # June 30, 2023, 23:59:59\n",
    "\n",
    "\n",
    "result_query = conn.execute(f\"\"\"\n",
    "    SELECT transaction_date AS transaction_day, AVG(amount) AS avg_transaction_amount\n",
    "    FROM transactions\n",
    "    WHERE transaction_date BETWEEN '{start_date.strftime('%Y-%m-%d %H:%M:%S')}' AND '{end_date.strftime('%Y-%m-%d %H:%M:%S')}'\n",
    "    GROUP BY transaction_date\n",
    "\"\"\")\n",
    "\n",
    "\n",
    "result_df = result_query.df()\n",
    "\n",
    "print(f\"Execution Time: {(time.time() - cur_time)} seconds\")\n",
    "\n",
    "print(result_df)\n"
   ]
  },
  {
   "cell_type": "code",
   "execution_count": 32,
   "metadata": {},
   "outputs": [
    {
     "data": {
      "image/png": "[encoded data removed]",
      "text/plain": [
       "<Figure size 1000x600 with 1 Axes>"
      ]
     },
     "metadata": {},
     "output_type": "display_data"
    }
   ],
   "source": [
    "result_df =result_df.head(100000)\n",
    "plt.figure(figsize=(10, 6))\n",
    "plt.plot(result_df['transaction_day'], result_df['avg_transaction_amount'])\n",
    "plt.xlabel(\"Transaction Date\")\n",
    "plt.ylabel(\"Average Transaction Amount\")\n",
    "plt.title(\"Average Transaction Amount Over Time (First 100000 Rows)\")\n",
    "plt.xticks(rotation=45)\n",
    "plt.grid(True)\n",
    "plt.tight_layout()\n",
    "plt.show()"
   ]
  },
  {
   "cell_type": "markdown",
   "metadata": {},
   "source": [
    "4. Top Selling Product categories wuth average price \n"
   ]
  },
  {
   "cell_type": "code",
   "execution_count": 57,
   "metadata": {},
   "outputs": [
    {
     "data": {
      "text/html": [
       "<div>\n",
       "<style scoped>\n",
       "    .dataframe tbody tr th:only-of-type {\n",
       "        vertical-align: middle;\n",
       "    }\n",
       "\n",
       "    .dataframe tbody tr th {\n",
       "        vertical-align: top;\n",
       "    }\n",
       "\n",
       "    .dataframe thead th {\n",
       "        text-align: right;\n",
       "    }\n",
       "</style>\n",
       "<table border=\"1\" class=\"dataframe\">\n",
       "  <thead>\n",
       "    <tr style=\"text-align: right;\">\n",
       "      <th></th>\n",
       "      <th>column_name</th>\n",
       "      <th>column_type</th>\n",
       "      <th>null</th>\n",
       "      <th>key</th>\n",
       "      <th>default</th>\n",
       "      <th>extra</th>\n",
       "    </tr>\n",
       "  </thead>\n",
       "  <tbody>\n",
       "    <tr>\n",
       "      <th>0</th>\n",
       "      <td>user_id</td>\n",
       "      <td>BIGINT</td>\n",
       "      <td>YES</td>\n",
       "      <td>NaN</td>\n",
       "      <td>NaN</td>\n",
       "      <td>NaN</td>\n",
       "    </tr>\n",
       "    <tr>\n",
       "      <th>1</th>\n",
       "      <td>user_name</td>\n",
       "      <td>VARCHAR</td>\n",
       "      <td>YES</td>\n",
       "      <td>NaN</td>\n",
       "      <td>NaN</td>\n",
       "      <td>NaN</td>\n",
       "    </tr>\n",
       "    <tr>\n",
       "      <th>2</th>\n",
       "      <td>email</td>\n",
       "      <td>VARCHAR</td>\n",
       "      <td>YES</td>\n",
       "      <td>NaN</td>\n",
       "      <td>NaN</td>\n",
       "      <td>NaN</td>\n",
       "    </tr>\n",
       "    <tr>\n",
       "      <th>3</th>\n",
       "      <td>date_of_birth</td>\n",
       "      <td>VARCHAR</td>\n",
       "      <td>YES</td>\n",
       "      <td>NaN</td>\n",
       "      <td>NaN</td>\n",
       "      <td>NaN</td>\n",
       "    </tr>\n",
       "    <tr>\n",
       "      <th>4</th>\n",
       "      <td>address</td>\n",
       "      <td>VARCHAR</td>\n",
       "      <td>YES</td>\n",
       "      <td>NaN</td>\n",
       "      <td>NaN</td>\n",
       "      <td>NaN</td>\n",
       "    </tr>\n",
       "    <tr>\n",
       "      <th>5</th>\n",
       "      <td>state</td>\n",
       "      <td>VARCHAR</td>\n",
       "      <td>YES</td>\n",
       "      <td>NaN</td>\n",
       "      <td>NaN</td>\n",
       "      <td>NaN</td>\n",
       "    </tr>\n",
       "    <tr>\n",
       "      <th>6</th>\n",
       "      <td>country</td>\n",
       "      <td>VARCHAR</td>\n",
       "      <td>YES</td>\n",
       "      <td>NaN</td>\n",
       "      <td>NaN</td>\n",
       "      <td>NaN</td>\n",
       "    </tr>\n",
       "  </tbody>\n",
       "</table>\n",
       "</div>"
      ],
      "text/plain": [
       "     column_name column_type null  key default  extra\n",
       "0        user_id      BIGINT  YES  NaN     NaN    NaN\n",
       "1      user_name     VARCHAR  YES  NaN     NaN    NaN\n",
       "2          email     VARCHAR  YES  NaN     NaN    NaN\n",
       "3  date_of_birth     VARCHAR  YES  NaN     NaN    NaN\n",
       "4        address     VARCHAR  YES  NaN     NaN    NaN\n",
       "5          state     VARCHAR  YES  NaN     NaN    NaN\n",
       "6        country     VARCHAR  YES  NaN     NaN    NaN"
      ]
     },
     "execution_count": 57,
     "metadata": {},
     "output_type": "execute_result"
    }
   ],
   "source": [
    "conn.execute(\" DESCRIBE users\").df()"
   ]
  },
  {
   "cell_type": "code",
   "execution_count": 33,
   "metadata": {},
   "outputs": [
    {
     "name": "stdout",
     "output_type": "stream",
     "text": [
      "Execution Time: 406.95651483535767 seconds\n",
      "      category  num_transactions   avg_price\n",
      "0         Home        6684073368  105.348279\n",
      "1        Tools        6646594926  105.087792\n",
      "2  Electronics        6632576248  105.035063\n",
      "3  Accessories        6632211014  104.951051\n",
      "4     Clothing        6623093991  104.938675\n"
     ]
    }
   ],
   "source": [
    "cur_time = time.time()\n",
    "\n",
    "\n",
    "result_query = conn.execute(\"\"\"\n",
    "    SELECT p.category, COUNT(*) AS num_transactions, AVG(p.price) AS avg_price\n",
    "    FROM transactions t\n",
    "    JOIN products p ON t.product_id = p.product_id\n",
    "    GROUP BY p.category\n",
    "    ORDER BY num_transactions DESC\n",
    "\"\"\")\n",
    "\n",
    "\n",
    "result_df = result_query.df()\n",
    "\n",
    "\n",
    "execution_time = time.time() - cur_time\n",
    "print(f\"Execution Time: {execution_time} seconds\")\n",
    "\n",
    "print(result_df)"
   ]
  },
  {
   "cell_type": "code",
   "execution_count": 34,
   "metadata": {},
   "outputs": [
    {
     "data": {
      "image/png": "[encoded data removed]",
      "text/plain": [
       "<Figure size 1000x600 with 1 Axes>"
      ]
     },
     "metadata": {},
     "output_type": "display_data"
    },
    {
     "data": {
      "image/png": "[encoded data removed]",
      "text/plain": [
       "<Figure size 1000x600 with 1 Axes>"
      ]
     },
     "metadata": {},
     "output_type": "display_data"
    }
   ],
   "source": [
    "# Visualization 1: Bar chart for number of transactions per category\n",
    "plt.figure(figsize=(10, 6))\n",
    "sns.barplot(x=\"num_transactions\", y=\"category\", data=result_df)\n",
    "plt.xlabel(\"Number of Transactions\")\n",
    "plt.ylabel(\"Product Category\")\n",
    "plt.title(\"Number of Transactions per Product Category\")\n",
    "plt.show()\n",
    "\n",
    "# Visualization 2: Scatter plot for number of transactions vs. average price per category\n",
    "plt.figure(figsize=(10, 6))\n",
    "sns.scatterplot(x=\"num_transactions\", y=\"avg_price\", data=result_df)\n",
    "plt.xlabel(\"Number of Transactions\")\n",
    "plt.ylabel(\"Average Price\")\n",
    "plt.title(\"Number of Transactions vs. Average Price per Product Category\")\n",
    "plt.show()"
   ]
  },
  {
   "cell_type": "markdown",
   "metadata": {},
   "source": [
    "5. Grouping users by age and displaying it in ascending order of age "
   ]
  },
  {
   "cell_type": "code",
   "execution_count": 35,
   "metadata": {},
   "outputs": [
    {
     "name": "stdout",
     "output_type": "stream",
     "text": [
      "Execution Time: 0.23099732398986816 seconds\n",
      "    age  user_count\n",
      "0    18       92280\n",
      "1    19      159864\n",
      "2    20      160764\n",
      "3    21      160446\n",
      "4    22      159855\n",
      "..  ...         ...\n",
      "59   77      159859\n",
      "60   78      160052\n",
      "61   79      160135\n",
      "62   80      160216\n",
      "63   81       67308\n",
      "\n",
      "[64 rows x 2 columns]\n"
     ]
    }
   ],
   "source": [
    "cur_time = time.time()\n",
    "\n",
    "# Execute the SQL query to calculate the age and user count\n",
    "result_query = conn.execute(\"\"\"\n",
    "    SELECT DATE_PART('year', NOW()) - DATE_PART('year', CAST(date_of_birth AS TIMESTAMP)) AS age, COUNT(*) AS user_count\n",
    "    FROM users\n",
    "    GROUP BY age\n",
    "    ORDER BY age\n",
    "\"\"\")\n",
    "\n",
    "\n",
    "result_df = result_query.df()\n",
    "\n",
    "execution_time = time.time() - cur_time\n",
    "print(f\"Execution Time: {execution_time} seconds\")\n",
    "print(result_df)"
   ]
  },
  {
   "cell_type": "code",
   "execution_count": 36,
   "metadata": {},
   "outputs": [
    {
     "data": {
      "image/png": "[encoded data removed]",
      "text/plain": [
       "<Figure size 1000x600 with 1 Axes>"
      ]
     },
     "metadata": {},
     "output_type": "display_data"
    }
   ],
   "source": [
    "#visualization : histogrram\n",
    "plt.figure(figsize=(10, 6))\n",
    "plt.bar(result_df['age'], result_df['user_count'])\n",
    "plt.xlabel(\"Age\")\n",
    "plt.ylabel(\"User Count\")\n",
    "plt.title(\"Distribution of Users by Age\")\n",
    "plt.xticks(rotation=45)\n",
    "plt.tight_layout()\n",
    "plt.show()"
   ]
  },
  {
   "cell_type": "markdown",
   "metadata": {},
   "source": [
    "<h3>Optimizing the query</h3> "
   ]
  },
  {
   "cell_type": "markdown",
   "metadata": {},
   "source": [
    "We can see that querry  1. Calculating total revenue by category and 4. Top Selling Product categories wuth average price took substantiall longer time to execte. Lets try optimizing the query by appling certain optimization techniques\n"
   ]
  },
  {
   "cell_type": "markdown",
   "metadata": {},
   "source": [
    "1. Applying indexing"
   ]
  },
  {
   "cell_type": "code",
   "execution_count": 6,
   "metadata": {},
   "outputs": [
    {
     "data": {
      "text/plain": [
       "<duckdb.DuckDBPyConnection at 0x28366b727f0>"
      ]
     },
     "execution_count": 6,
     "metadata": {},
     "output_type": "execute_result"
    }
   ],
   "source": [
    "\n",
    "\n",
    "# indexing the \"category\" in products\n",
    "conn.execute(\"  DROP INDEX IF EXISTS idx_products_category \")\n",
    "\n",
    "conn.execute(\"  DROP INDEX IF EXISTS idx_products_id \")\n",
    "\n"
   ]
  },
  {
   "cell_type": "code",
   "execution_count": 7,
   "metadata": {},
   "outputs": [
    {
     "data": {
      "text/plain": [
       "<duckdb.DuckDBPyConnection at 0x208bae30170>"
      ]
     },
     "execution_count": 7,
     "metadata": {},
     "output_type": "execute_result"
    }
   ],
   "source": [
    "conn.execute(\"CREATE INDEX idx_products_category ON products(category)\")\n",
    "conn.execute(\"CREATE INDEX idx_products_id ON products(product_id)\")"
   ]
  },
  {
   "cell_type": "code",
   "execution_count": 39,
   "metadata": {},
   "outputs": [
    {
     "ename": "Error",
     "evalue": "Invalid Error: bad allocation",
     "output_type": "error",
     "traceback": [
      "\u001b[1;31m---------------------------------------------------------------------------\u001b[0m",
      "\u001b[1;31mError\u001b[0m                                     Traceback (most recent call last)",
      "Cell \u001b[1;32mIn[39], line 2\u001b[0m\n\u001b[0;32m      1\u001b[0m conn\u001b[39m.\u001b[39mexecute(\u001b[39m\"\u001b[39m\u001b[39m  DROP INDEX IF EXISTS idx_transactions_product_id \u001b[39m\u001b[39m\"\u001b[39m)\n\u001b[1;32m----> 2\u001b[0m conn\u001b[39m.\u001b[39;49mexecute(\u001b[39m\"\u001b[39;49m\u001b[39mCREATE INDEX idx_transactions_product_id ON transactions(product_id)\u001b[39;49m\u001b[39m\"\u001b[39;49m)\n",
      "\u001b[1;31mError\u001b[0m: Invalid Error: bad allocation"
     ]
    }
   ],
   "source": [
    "conn.execute(\"  DROP INDEX IF EXISTS idx_transactions_product_id \")\n",
    "conn.execute(\"CREATE INDEX idx_transactions_product_id ON transactions(product_id)\")"
   ]
  },
  {
   "cell_type": "markdown",
   "metadata": {},
   "source": [
    "1. total revenue by category"
   ]
  },
  {
   "cell_type": "code",
   "execution_count": 5,
   "metadata": {},
   "outputs": [
    {
     "name": "stdout",
     "output_type": "stream",
     "text": [
      "Execution Time: 352.1788866519928 seconds\n",
      "      category  total_revenue\n",
      "0         Home   3.676285e+11\n",
      "1        Tools   3.655675e+11\n",
      "2  Electronics   3.647923e+11\n",
      "3  Accessories   3.647723e+11\n",
      "4     Clothing   3.642730e+11\n"
     ]
    }
   ],
   "source": [
    "cur_time = time.time()\n",
    "result_query = conn.execute(\"\"\"\n",
    "    SELECT p.category, SUM(t.amount) AS total_revenue\n",
    "    FROM transactions t\n",
    "    JOIN products p ON t.product_id = p.product_id\n",
    "    GROUP BY p.category\n",
    "\"\"\")\n",
    "\n",
    "result_df = result_query.df()\n",
    "\n",
    "print(f\"Execution Time: {(time.time() - cur_time)} seconds\")\n",
    "\n",
    "print(result_df)"
   ]
  },
  {
   "cell_type": "markdown",
   "metadata": {},
   "source": [
    "we see the exection time reduce from 397 to 352 seconds. Its a 11.3% reduction in unning time"
   ]
  },
  {
   "cell_type": "markdown",
   "metadata": {},
   "source": [
    "2. top selling product categories with averrage price per category"
   ]
  },
  {
   "cell_type": "code",
   "execution_count": 14,
   "metadata": {},
   "outputs": [
    {
     "name": "stdout",
     "output_type": "stream",
     "text": [
      "Execution Time: 368.6746642589569 seconds\n",
      "      category  num_transactions   avg_price\n",
      "0         Home        6684073368  105.348279\n",
      "1        Tools        6646594926  105.087792\n",
      "2  Electronics        6632576248  105.035063\n",
      "3  Accessories        6632211014  104.951051\n",
      "4     Clothing        6623093991  104.938675\n"
     ]
    }
   ],
   "source": [
    "cur_time = time.time()\n",
    "result_query = conn.execute(\"\"\"\n",
    "    SELECT p.category, COUNT(*) AS num_transactions, AVG(p.price) AS avg_price\n",
    "    FROM transactions t\n",
    "    JOIN products p ON t.product_id = p.product_id\n",
    "    GROUP BY p.category\n",
    "    ORDER BY num_transactions DESC\n",
    "\"\"\")\n",
    "result_df = result_query.df()\n",
    "\n",
    "execution_time = time.time() - cur_time\n",
    "print(f\"Execution Time: {execution_time} seconds\")\n",
    "print(result_df)"
   ]
  },
  {
   "cell_type": "markdown",
   "metadata": {},
   "source": [
    "We can see that the execution time reduced from 406 sec to 352 sec, That is a 13.3% percent reduction in running time"
   ]
  },
  {
   "cell_type": "markdown",
   "metadata": {},
   "source": [
    "2. Window function"
   ]
  },
  {
   "cell_type": "markdown",
   "metadata": {},
   "source": [
    " 1. give the percentage of amount they spent on each transaction per user"
   ]
  },
  {
   "cell_type": "markdown",
   "metadata": {},
   "source": [
    "we will have to use window functions here to achieve this, or else we might have to perform a self join on transactions to achive the same result which is resource intensive compared to this."
   ]
  },
  {
   "cell_type": "code",
   "execution_count": 5,
   "metadata": {},
   "outputs": [
    {
     "name": "stdout",
     "output_type": "stream",
     "text": [
      "Execution Time: 195.98186945915222 seconds\n",
      "          transaction_id  user_id  amount  transaction_amount_percentage\n",
      "0                 247115     1006   61.54                       0.001126\n",
      "1                 249029     1006   53.01                       0.000970\n",
      "2                 250180     1006   46.54                       0.000851\n",
      "3                 251436     1006   21.00                       0.000384\n",
      "4                 251933     1006   34.46                       0.000630\n",
      "...                  ...      ...     ...                            ...\n",
      "99999995        99910725     1999   82.14                       0.001493\n",
      "99999996        99915368     1999   54.77                       0.000996\n",
      "99999997        99915928     1999   14.95                       0.000272\n",
      "99999998        99916431     1999   82.13                       0.001493\n",
      "99999999        99917693     1999   85.67                       0.001558\n",
      "\n",
      "[100000000 rows x 4 columns]\n"
     ]
    }
   ],
   "source": [
    "cur_time = time.time()\n",
    "result_query = conn.execute(\"\"\"\n",
    "    SELECT transaction_id, user_id, amount,\n",
    "           100.0 * amount / SUM(amount) OVER(PARTITION BY user_id) AS transaction_amount_percentage\n",
    "    FROM transactions\n",
    "\"\"\")\n",
    "result_df = result_query.df()\n",
    "execution_time = time.time() - cur_time\n",
    "print(f\"Execution Time: {execution_time} seconds\")\n",
    "print(result_df)"
   ]
  },
  {
   "cell_type": "markdown",
   "metadata": {},
   "source": [
    "<h1> FORECASTING THE SALES FIGURES OF A NEW PRODUCT </h1>"
   ]
  },
  {
   "cell_type": "markdown",
   "metadata": {},
   "source": [
    "The goal here is to add a new product to the products table and then predict the sales of that product"
   ]
  },
  {
   "cell_type": "code",
   "execution_count": 29,
   "metadata": {},
   "outputs": [],
   "source": [
    "# the metrics of the new products\n",
    "p_id = 'P1000'\n",
    "p_name = 'Iphone 13'\n",
    "p_price = 100\n",
    "p_category = 'Electronics'\n",
    "\n"
   ]
  },
  {
   "cell_type": "code",
   "execution_count": 4,
   "metadata": {},
   "outputs": [
    {
     "data": {
      "text/plain": [
       "<duckdb.DuckDBPyConnection at 0x22bd9b6eff0>"
      ]
     },
     "execution_count": 4,
     "metadata": {},
     "output_type": "execute_result"
    }
   ],
   "source": [
    "conn.execute(\"\"\" DELETE FROM products WHERE product_id = 'P1000' \"\"\")"
   ]
  },
  {
   "cell_type": "code",
   "execution_count": 5,
   "metadata": {},
   "outputs": [
    {
     "data": {
      "text/plain": [
       "<duckdb.DuckDBPyConnection at 0x22bd9b6eff0>"
      ]
     },
     "execution_count": 5,
     "metadata": {},
     "output_type": "execute_result"
    }
   ],
   "source": [
    "conn.execute(f\"\"\"\n",
    "    INSERT INTO products (product_id, product_name, category, price)\n",
    "    VALUES ('{p_id}', '{p_name}', '{p_category}', {p_price})\n",
    "\"\"\")"
   ]
  },
  {
   "cell_type": "code",
   "execution_count": 6,
   "metadata": {},
   "outputs": [
    {
     "name": "stdout",
     "output_type": "stream",
     "text": [
      "  product_id product_name     category  price\n",
      "0      P1000    Iphone 13  Electronics  100.0\n"
     ]
    }
   ],
   "source": [
    "data = conn.execute(\"\"\" SELECT * FROM products WHERE product_id == 'P1000' \"\"\").df()\n",
    "print(data)"
   ]
  },
  {
   "cell_type": "markdown",
   "metadata": {},
   "source": [
    " The new product 'P1000' has been inserted. \n",
    " 1. Since this product doesnt have have an transactional history we need to create some for it.For that we need to find products similar to it.\n",
    " 2. To achieve that Ive chosen the following strategy\n",
    "3. Since we dont have much attributes in the products table I assume that the existing products in the same category and around the same price range are similar to the new one"
   ]
  },
  {
   "cell_type": "code",
   "execution_count": 30,
   "metadata": {},
   "outputs": [],
   "source": [
    "select_attributes_query = f\"\"\"\n",
    "    SELECT category, price\n",
    "    FROM products\n",
    "    WHERE product_id = '{p_id}'\n",
    "\"\"\"\n",
    "\n",
    "result = conn.execute(select_attributes_query)\n",
    "new_product_attributes = result.fetchall()\n",
    "\n",
    "new_product_category = p_category \n",
    "new_product_price = p_price  \n",
    "\n",
    "# Find similar products based on category and price\n",
    "find_similar_query = f\"\"\"\n",
    "    SELECT product_id\n",
    "    FROM products\n",
    "    WHERE category = '{new_product_category}' AND product_id != '{p_id}'\n",
    "          AND ABS(price - {new_product_price}) <= 5  \n",
    "\"\"\"\n",
    "\n",
    "result = conn.execute(find_similar_query)\n",
    "similar_products = result.fetchall()\n",
    "similar_product_ids = [product[0] for product in similar_products]"
   ]
  },
  {
   "cell_type": "code",
   "execution_count": 31,
   "metadata": {},
   "outputs": [],
   "source": [
    "similar_product_ids = list(set(similar_product_ids))"
   ]
  },
  {
   "cell_type": "code",
   "execution_count": 32,
   "metadata": {},
   "outputs": [
    {
     "name": "stdout",
     "output_type": "stream",
     "text": [
      "871\n"
     ]
    }
   ],
   "source": [
    "print(len(similar_product_ids))\n"
   ]
  },
  {
   "cell_type": "markdown",
   "metadata": {},
   "source": [
    "OBSERAVATION: we can see that we have 871 products that are similar to this product"
   ]
  },
  {
   "cell_type": "markdown",
   "metadata": {},
   "source": [
    "Now we need to make a table with all the transaction dates and the avg qty sold of all those products so that we can use that to forecast the sales of the new one. To achieve this ive used the following approach:\n",
    "1. make a temp table called transaction_filtered containg the transaction data of all the products of interest\n",
    "2. use that table and the products table to obtain another temp table called similar_products_data that has all the transaction dates and quantity of those products sold\n",
    "3. with these create a final data frame that has the transaction days and average quantity of the products sold\n",
    "4. Use this data frame to perfom time series analysis using ARIMA to predict the sales of month august 23"
   ]
  },
  {
   "cell_type": "code",
   "execution_count": 10,
   "metadata": {},
   "outputs": [],
   "source": [
    "product_ids_str = ','.join([f\"'{pid}'\" for pid in similar_product_ids])"
   ]
  },
  {
   "cell_type": "code",
   "execution_count": 11,
   "metadata": {},
   "outputs": [
    {
     "data": {
      "text/plain": [
       "<duckdb.DuckDBPyConnection at 0x22bd9b6eff0>"
      ]
     },
     "execution_count": 11,
     "metadata": {},
     "output_type": "execute_result"
    }
   ],
   "source": [
    "conn.execute(\"drop table if exists transaction_filtered\")"
   ]
  },
  {
   "cell_type": "code",
   "execution_count": 12,
   "metadata": {},
   "outputs": [
    {
     "data": {
      "text/plain": [
       "<duckdb.DuckDBPyConnection at 0x22bd9b6eff0>"
      ]
     },
     "execution_count": 12,
     "metadata": {},
     "output_type": "execute_result"
    }
   ],
   "source": [
    "query = f\"\"\"\n",
    "CREATE TEMP TABLE transaction_filtered AS\n",
    "SELECT transaction_date, amount , product_id \n",
    "FROM (select * from transactions limit 1000000) \n",
    "WHERE product_id IN ({product_ids_str})\n",
    "\"\"\"\n",
    "\n",
    "conn.execute(query)"
   ]
  },
  {
   "cell_type": "code",
   "execution_count": 13,
   "metadata": {},
   "outputs": [
    {
     "name": "stdout",
     "output_type": "stream",
     "text": [
      "   count_star()\n",
      "0        967778\n"
     ]
    }
   ],
   "source": [
    "data = conn.execute(\"select count(*) from transaction_filtered\").df()\n",
    "print(data)"
   ]
  },
  {
   "cell_type": "code",
   "execution_count": 33,
   "metadata": {},
   "outputs": [
    {
     "data": {
      "text/plain": [
       "<duckdb.DuckDBPyConnection at 0x25efac3cfb0>"
      ]
     },
     "execution_count": 33,
     "metadata": {},
     "output_type": "execute_result"
    }
   ],
   "source": [
    "#change\n",
    "conn.execute(\"\"\" DROP TABLE IF EXISTS similar_products_data \"\"\")\n",
    "conn.execute(\"\"\"\n",
    "    CREATE TEMP TABLE similar_products_data AS SELECT t.transaction_date, t.product_id , ROUND(t.amount / p.price) AS qty\n",
    "             FROM (select transaction_date , amount, product_id FROM transaction_filtered LIMIT 100000) t \n",
    "             INNER JOIN products p ON t.product_id == p.product_id\n",
    "\n",
    "\"\"\")"
   ]
  },
  {
   "cell_type": "code",
   "execution_count": 34,
   "metadata": {},
   "outputs": [
    {
     "name": "stdout",
     "output_type": "stream",
     "text": [
      "   count_star()\n",
      "0      33337716\n"
     ]
    }
   ],
   "source": [
    "print(conn.execute(\"\"\" SELECT count(*) FROM similar_products_data  \"\"\").df())"
   ]
  },
  {
   "cell_type": "code",
   "execution_count": 35,
   "metadata": {},
   "outputs": [
    {
     "name": "stdout",
     "output_type": "stream",
     "text": [
      "      transaction_date product_id  qty\n",
      "0  2023-06-29 00:57:51       P938  2.0\n",
      "1  2023-02-01 09:29:39       P232  2.0\n",
      "2  2023-05-14 16:48:04       P328  2.0\n",
      "3  2023-03-23 17:38:47       P965  0.0\n",
      "4  2023-02-08 18:23:37       P985  0.0\n",
      "5  2023-06-01 11:31:12       P860  1.0\n",
      "6  2023-01-13 16:52:51       P485  1.0\n",
      "7  2023-05-09 22:14:42       P247  0.0\n",
      "8  2023-07-08 04:29:02       P758  0.0\n",
      "9  2023-03-18 10:00:31       P987  0.0\n"
     ]
    }
   ],
   "source": [
    "print(conn.execute(\"\"\" SELECT * FROM similar_products_data LIMIT 10  \"\"\").df())"
   ]
  },
  {
   "cell_type": "code",
   "execution_count": 36,
   "metadata": {},
   "outputs": [
    {
     "name": "stdout",
     "output_type": "stream",
     "text": [
      "<duckdb.DuckDBPyConnection object at 0x0000025EFAC3CFB0>\n"
     ]
    }
   ],
   "source": [
    "# remove the transaction that has 0 quantity : this happens because the data was randomly generated\n",
    "print(conn.execute(\" delete from similar_products_data where qty = 0.0\"))"
   ]
  },
  {
   "cell_type": "code",
   "execution_count": 37,
   "metadata": {},
   "outputs": [
    {
     "name": "stdout",
     "output_type": "stream",
     "text": [
      "   count_star()\n",
      "0      17555918\n"
     ]
    }
   ],
   "source": [
    "print(conn.execute(\"\"\" SELECT count(*) FROM similar_products_data  \"\"\").df())\n"
   ]
  },
  {
   "cell_type": "code",
   "execution_count": 38,
   "metadata": {},
   "outputs": [
    {
     "data": {
      "text/plain": [
       "<duckdb.DuckDBPyConnection at 0x25efac3cfb0>"
      ]
     },
     "execution_count": 38,
     "metadata": {},
     "output_type": "execute_result"
    }
   ],
   "source": [
    "# extranct only the year month and day from the transaction_Date\n",
    "conn.execute(\"UPDATE similar_products_data SET transaction_date = SUBSTRING(transaction_date FROM 1 FOR 10);\")\n"
   ]
  },
  {
   "cell_type": "code",
   "execution_count": 39,
   "metadata": {},
   "outputs": [
    {
     "name": "stdout",
     "output_type": "stream",
     "text": [
      "  transaction_date product_id  qty\n",
      "0       2023-06-29       P938  2.0\n",
      "1       2023-02-01       P232  2.0\n",
      "2       2023-05-14       P328  2.0\n",
      "3       2023-06-01       P860  1.0\n",
      "4       2023-01-13       P485  1.0\n",
      "5       2023-02-21       P945  1.0\n",
      "6       2023-02-20       P378  2.0\n",
      "7       2023-02-04       P155  1.0\n",
      "8       2023-06-07       P219  5.0\n",
      "9       2023-03-24       P198  1.0\n"
     ]
    }
   ],
   "source": [
    "print(conn.execute(\" select * from similar_products_data limit 10\").df())"
   ]
  },
  {
   "cell_type": "code",
   "execution_count": 40,
   "metadata": {},
   "outputs": [
    {
     "data": {
      "text/plain": [
       "<duckdb.DuckDBPyConnection at 0x25efac3cfb0>"
      ]
     },
     "execution_count": 40,
     "metadata": {},
     "output_type": "execute_result"
    }
   ],
   "source": [
    "# create a temp table to sum the quantity of the same product sold on the same day\n",
    "conn.execute(\"\"\" DROP TABLE IF EXISTS transaction_qty_tmp\"\"\")\n",
    "conn.execute(\"\"\"\n",
    "    CREATE TEMP TABLE transaction_qty_tmp AS SELECT transaction_date, product_id, SUM(qty) AS total_qty\n",
    "FROM similar_products_data\n",
    "GROUP BY transaction_date, product_id;\n",
    "\n",
    "\"\"\")"
   ]
  },
  {
   "cell_type": "code",
   "execution_count": 41,
   "metadata": {},
   "outputs": [
    {
     "name": "stdout",
     "output_type": "stream",
     "text": [
      "  transaction_date product_id  total_qty\n",
      "0       2023-04-26       P388      596.0\n",
      "1       2023-01-11       P913      560.0\n",
      "2       2023-05-02       P390      541.0\n",
      "3       2023-01-23       P184      365.0\n",
      "4       2023-02-12       P541      395.0\n",
      "5       2023-07-05       P602      224.0\n",
      "6       2023-03-15       P360      556.0\n",
      "7       2023-07-10       P979      449.0\n",
      "8       2023-04-13       P805      456.0\n",
      "9       2023-03-05       P967      531.0\n"
     ]
    }
   ],
   "source": [
    "print(conn.execute(\" SELECT * FROM transaction_qty_tmp LIMIT 10\").df())"
   ]
  },
  {
   "cell_type": "code",
   "execution_count": 153,
   "metadata": {},
   "outputs": [
    {
     "data": {
      "text/plain": [
       "<duckdb.DuckDBPyConnection at 0x25efac3cfb0>"
      ]
     },
     "execution_count": 153,
     "metadata": {},
     "output_type": "execute_result"
    }
   ],
   "source": [
    "# now find the average sale quantity of the same day\n",
    "conn.execute(\"\"\" DROP TABLE IF EXISTS transaction_qty\"\"\")\n",
    "conn.execute(\"\"\"\n",
    "    CREATE TABLE transaction_qty AS SELECT transaction_date , AVG(total_qty) \n",
    "             AS avg_qty FROM transaction_qty_tmp GROUP BY transaction_date ORDER BY transaction_date\n",
    "\n",
    "\"\"\")"
   ]
  },
  {
   "cell_type": "code",
   "execution_count": 154,
   "metadata": {},
   "outputs": [],
   "source": [
    "train_data = conn.execute(\" select * from transaction_qty\").df()"
   ]
  },
  {
   "cell_type": "code",
   "execution_count": 155,
   "metadata": {},
   "outputs": [
    {
     "name": "stdout",
     "output_type": "stream",
     "text": [
      "    transaction_date     avg_qty\n",
      "0         2023-01-01  316.028490\n",
      "1         2023-01-02  338.888579\n",
      "2         2023-01-03  351.343750\n",
      "3         2023-01-04  350.705570\n",
      "4         2023-01-05  326.372024\n",
      "..               ...         ...\n",
      "207       2023-07-27  359.505618\n",
      "208       2023-07-28  367.807388\n",
      "209       2023-07-29  350.777457\n",
      "210       2023-07-30  324.508065\n",
      "211       2023-07-31  321.626062\n",
      "\n",
      "[212 rows x 2 columns]\n"
     ]
    }
   ],
   "source": [
    "print(train_data)"
   ]
  },
  {
   "cell_type": "code",
   "execution_count": 156,
   "metadata": {},
   "outputs": [
    {
     "name": "stdout",
     "output_type": "stream",
     "text": [
      "Index(['index', 'transaction_date', 'avg_qty'], dtype='object')\n"
     ]
    }
   ],
   "source": [
    "# reindexing (can skip if not necessary for you)\n",
    "train_data_reset = train_data.reset_index()\n",
    "\n",
    "column_names = train_data_reset.columns\n",
    "\n",
    "print(column_names)\n",
    "train_data = train_data_reset\n"
   ]
  },
  {
   "cell_type": "code",
   "execution_count": 157,
   "metadata": {},
   "outputs": [
    {
     "name": "stdout",
     "output_type": "stream",
     "text": [
      "            index     avg_qty\n",
      "count  212.000000  212.000000\n",
      "mean   105.500000  348.288373\n",
      "std     61.343296   13.153611\n",
      "min      0.000000  314.662983\n",
      "25%     52.750000  340.197618\n",
      "50%    105.500000  347.796288\n",
      "75%    158.250000  357.188910\n",
      "max    211.000000  384.647368\n"
     ]
    }
   ],
   "source": [
    "print(train_data.describe())"
   ]
  },
  {
   "cell_type": "code",
   "execution_count": 158,
   "metadata": {},
   "outputs": [
    {
     "name": "stdout",
     "output_type": "stream",
     "text": [
      "0      2023-01-01\n",
      "1      2023-01-02\n",
      "2      2023-01-03\n",
      "3      2023-01-04\n",
      "4      2023-01-05\n",
      "          ...    \n",
      "207    2023-07-27\n",
      "208    2023-07-28\n",
      "209    2023-07-29\n",
      "210    2023-07-30\n",
      "211    2023-07-31\n",
      "Name: transaction_date, Length: 212, dtype: object\n"
     ]
    }
   ],
   "source": [
    "print(train_data['transaction_date'])"
   ]
  },
  {
   "cell_type": "code",
   "execution_count": 159,
   "metadata": {},
   "outputs": [],
   "source": [
    "train_data['transaction_date'] = pd.to_datetime(train_data['transaction_date'])\n",
    "train_data.set_index('transaction_date', inplace=True)"
   ]
  },
  {
   "cell_type": "markdown",
   "metadata": {},
   "source": [
    "1. Using ARIMA model to preict the sales of the month august"
   ]
  },
  {
   "cell_type": "code",
   "execution_count": 160,
   "metadata": {},
   "outputs": [
    {
     "data": {
      "image/png": "[encoded data removed]",
      "text/plain": [
       "<Figure size 700x300 with 1 Axes>"
      ]
     },
     "metadata": {},
     "output_type": "display_data"
    },
    {
     "data": {
      "image/png": "[encoded data removed]",
      "text/plain": [
       "<Figure size 640x480 with 4 Axes>"
      ]
     },
     "metadata": {},
     "output_type": "display_data"
    },
    {
     "name": "stderr",
     "output_type": "stream",
     "text": [
      "c:\\Users\\srira\\AppData\\Local\\Programs\\Python\\Python311\\Lib\\site-packages\\statsmodels\\tsa\\base\\tsa_model.py:473: ValueWarning: No frequency information was provided, so inferred frequency D will be used.\n",
      "  self._init_dates(dates, freq)\n",
      "c:\\Users\\srira\\AppData\\Local\\Programs\\Python\\Python311\\Lib\\site-packages\\statsmodels\\tsa\\base\\tsa_model.py:473: ValueWarning: No frequency information was provided, so inferred frequency D will be used.\n",
      "  self._init_dates(dates, freq)\n",
      "c:\\Users\\srira\\AppData\\Local\\Programs\\Python\\Python311\\Lib\\site-packages\\statsmodels\\tsa\\base\\tsa_model.py:473: ValueWarning: No frequency information was provided, so inferred frequency D will be used.\n",
      "  self._init_dates(dates, freq)\n"
     ]
    }
   ],
   "source": [
    "from statsmodels.tsa.arima.model import ARIMA\n",
    "import numpy as np\n",
    "import pandas as pd\n",
    "import matplotlib.pyplot as plt\n",
    "from sklearn.metrics import mean_squared_error, mean_absolute_error\n",
    "from statsmodels.tsa.seasonal import seasonal_decompose\n",
    "\n",
    "\n",
    "# Visualize the data\n",
    "plt.figure(figsize=(7, 3))\n",
    "plt.plot(train_data)\n",
    "plt.title('Average Quantity Over Time')\n",
    "plt.xlabel('Date')\n",
    "plt.ylabel('Average Quantity')\n",
    "plt.tight_layout()\n",
    "plt.show()\n",
    "\n",
    "# Decompose the time series for 'avg_qty' column\n",
    "result = seasonal_decompose(train_data['avg_qty'], model='additive')\n",
    "result.plot()\n",
    "plt.tight_layout()\n",
    "plt.show()\n",
    "\n",
    "# Fit an ARIMA model\n",
    "model = ARIMA(train_data['avg_qty'], order=(5, 1, 0))\n",
    "fit_model = model.fit()\n",
    "\n",
    "\n",
    "\n"
   ]
  },
  {
   "cell_type": "markdown",
   "metadata": {},
   "source": [
    "2. Forecast the future values for the month of August"
   ]
  },
  {
   "cell_type": "code",
   "execution_count": 161,
   "metadata": {},
   "outputs": [
    {
     "name": "stdout",
     "output_type": "stream",
     "text": [
      "Date: 2023-08-01, Avg Qty: 342.02\n",
      "Date: 2023-08-02, Avg Qty: 339.97\n",
      "Date: 2023-08-03, Avg Qty: 338.31\n",
      "Date: 2023-08-04, Avg Qty: 338.34\n",
      "Date: 2023-08-05, Avg Qty: 335.98\n",
      "Date: 2023-08-06, Avg Qty: 335.85\n",
      "Date: 2023-08-07, Avg Qty: 337.97\n",
      "Date: 2023-08-08, Avg Qty: 337.49\n",
      "Date: 2023-08-09, Avg Qty: 337.13\n",
      "Date: 2023-08-10, Avg Qty: 337.34\n",
      "Date: 2023-08-11, Avg Qty: 337.12\n",
      "Date: 2023-08-12, Avg Qty: 337.08\n",
      "Date: 2023-08-13, Avg Qty: 337.32\n",
      "Date: 2023-08-14, Avg Qty: 337.24\n",
      "Date: 2023-08-15, Avg Qty: 337.19\n",
      "Date: 2023-08-16, Avg Qty: 337.23\n",
      "Date: 2023-08-17, Avg Qty: 337.21\n",
      "Date: 2023-08-18, Avg Qty: 337.20\n",
      "Date: 2023-08-19, Avg Qty: 337.23\n",
      "Date: 2023-08-20, Avg Qty: 337.22\n",
      "Date: 2023-08-21, Avg Qty: 337.21\n",
      "Date: 2023-08-22, Avg Qty: 337.22\n",
      "Date: 2023-08-23, Avg Qty: 337.22\n",
      "Date: 2023-08-24, Avg Qty: 337.22\n",
      "Date: 2023-08-25, Avg Qty: 337.22\n",
      "Date: 2023-08-26, Avg Qty: 337.22\n",
      "Date: 2023-08-27, Avg Qty: 337.22\n",
      "Date: 2023-08-28, Avg Qty: 337.22\n",
      "Date: 2023-08-29, Avg Qty: 337.22\n",
      "Date: 2023-08-30, Avg Qty: 337.22\n",
      "Date: 2023-08-31, Avg Qty: 337.22\n",
      "Sum of Avg Qty for August (rounded): 10462\n"
     ]
    }
   ],
   "source": [
    "# Forecast future values\n",
    "forecast_steps = 31  \n",
    "forecast = fit_model.forecast(steps=forecast_steps)\n",
    "forecast_dates = pd.date_range(start='2023-08-01', periods=forecast_steps, freq='D')\n",
    "\n",
    "#average quantity for each day in aug\n",
    "avg_qty_per_day = forecast\n",
    "\n",
    "# sum of average quantities round to nearest integer\n",
    "sum_avg_qty = int(round(avg_qty_per_day.sum()))\n",
    "\n",
    "for date, qty in zip(forecast_dates, avg_qty_per_day):\n",
    "    print(f\"Date: {date.strftime('%Y-%m-%d')}, Avg Qty: {qty:.2f}\")\n",
    "\n",
    "print(\"Sum of Avg Qty for August (rounded):\", sum_avg_qty)\n"
   ]
  },
  {
   "cell_type": "code",
   "execution_count": 162,
   "metadata": {},
   "outputs": [
    {
     "data": {
      "image/png": "[encoded data removed]",
      "text/plain": [
       "<Figure size 700x300 with 1 Axes>"
      ]
     },
     "metadata": {},
     "output_type": "display_data"
    }
   ],
   "source": [
    "# forecast visualization\n",
    "plt.figure(figsize=(7, 3))\n",
    "plt.plot(actual_data_august.index, actual_data_august, label='Actual')\n",
    "plt.plot(forecast_dates, avg_qty_per_day, label='Forecast', color='red')\n",
    "plt.title('Average Quantity Forecast for August')\n",
    "plt.xlabel('Date')\n",
    "plt.ylabel('Average Quantity')\n",
    "plt.tight_layout()\n",
    "plt.legend()\n",
    "plt.show()"
   ]
  },
  {
   "cell_type": "markdown",
   "metadata": {},
   "source": [
    "INFERENCE : From here we can see that the average qty of the product P1000 required for the month of August 2023 is 10462. So the vendor must make sure that there is 10462 of product P1000 in stock to meet the sales of Aug 2023 "
   ]
  },
  {
   "cell_type": "code",
   "execution_count": 8,
   "metadata": {},
   "outputs": [],
   "source": [
    "conn.close()"
   ]
  },
  {
   "cell_type": "code",
   "execution_count": null,
   "metadata": {},
   "outputs": [],
   "source": []
  }
 ],
 "metadata": {
  "kernelspec": {
   "display_name": "Python 3",
   "language": "python",
   "name": "python3"
  },
  "language_info": {
   "codemirror_mode": {
    "name": "ipython",
    "version": 3
   },
   "file_extension": ".py",
   "mimetype": "text/x-python",
   "name": "python",
   "nbconvert_exporter": "python",
   "pygments_lexer": "ipython3",
   "version": "3.11.4"
  },
  "orig_nbformat": 4
 },
 "nbformat": 4,
 "nbformat_minor": 2
}
